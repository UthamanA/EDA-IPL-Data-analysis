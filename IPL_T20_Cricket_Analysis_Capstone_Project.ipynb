{
  "nbformat": 4,
  "nbformat_minor": 0,
  "metadata": {
    "colab": {
      "name": "IPL T20 Cricket Analysis - Capstone Project.ipynb",
      "provenance": [],
      "collapsed_sections": [],
      "authorship_tag": "ABX9TyNH2V8BWx+16WoP+NTJCy8a",
      "include_colab_link": true
    },
    "kernelspec": {
      "name": "python3",
      "display_name": "Python 3"
    },
    "language_info": {
      "name": "python"
    }
  },
  "cells": [
    {
      "cell_type": "markdown",
      "metadata": {
        "id": "view-in-github",
        "colab_type": "text"
      },
      "source": [
        "<a href=\"https://colab.research.google.com/github/UthamanA/EDA-IPL-data-Analysis/blob/main/IPL_T20_Cricket_Analysis_Capstone_Project.ipynb\" target=\"_parent\"><img src=\"https://colab.research.google.com/assets/colab-badge.svg\" alt=\"Open In Colab\"/></a>"
      ]
    },
    {
      "cell_type": "markdown",
      "metadata": {
        "id": "a61lQ5e6p6Tm"
      },
      "source": [
        "##Indian Premier League(IPL) is a professional Twenty20 cricket league in India contested during March or April and May of every year by eight teams representing eight different cities in India. The league was founded by the Board of Control for Cricket in India(BCCI) in 2008.##\n",
        "##**Explore** and analyze the data to discover results and statistics for different teams playing in IPL.##"
      ]
    },
    {
      "cell_type": "markdown",
      "metadata": {
        "id": "2KN_k8OSqM9L"
      },
      "source": [
        "**Finding valueable result for below rising questions. which will helps as to analyse the IPL Twenty20 cricket league**\n",
        "\n",
        "**General Analysis of IPL Matches**\n",
        "1.   How many matches we've got in data sheet?\n",
        "2.   How many seasons we've got in the dataset?\n",
        "3.   Which team had won by maximum runs?\n",
        "4.Which team had won by maximum wickets?\n",
        "5.Which team had won by (closest margin) minimum runs?\n",
        "6.Which team had won by minimum wickets?\n",
        "7.Which season had most number of matches?\n",
        "8.The most successful IPL Team\n",
        "9.Top player of the match Winners\n",
        "10.How many Toss winning teams have won the matches?\n",
        "11.What's the percentage of it?\n",
        "12.Team Performance\n",
        "13.Most IPL Matches played in a Venue\n",
        "\n",
        "**IPL Batting Analysis**\n",
        "\n",
        "14. Most Run Scored by IPL Teams\n",
        "15. Most IPL Runs by a Batsman\n",
        "16. Avg Run by Teams in Powerplay\n",
        "17. Most IPL Century by a Player\n",
        "18. Most IPL Fifty by Player\n",
        "19. Most Sixes in an IPL Inning\n",
        "20. Most Boundary (4s) hit by a Batsman\n",
        "21. Highest Total by IPL Teams\n",
        "22. Most IPL Sixes Hit by a batsman\n",
        "\n",
        "**Bowling Analysis**\n",
        "\n",
        "23. Most run conceded by a bowler in an inning\n",
        "24. Most IPL Wickets by a Bowler\n",
        "25. Most Dot Ball by a Bowler\n",
        "26. Most Maiden over by a Bowler\n",
        "27. Most Wickets by an IPL Team\n",
        "28. Most No Ball Runs by an IPL team\n",
        "29. Most No Ball Runs by an IPL Bowler\n",
        "30. Most run given by a team in Extra runs\n",
        "31. Most Wide Runs by an IPL team"
      ]
    },
    {
      "cell_type": "markdown",
      "metadata": {
        "id": "d5pH8BoHqbRT"
      },
      "source": [
        "**Importing Libraries**\n",
        "\n",
        "We will use NumPy and Pandas libraries of Python for data analysis and for data visualization Seaborn and Matplotlib libraries."
      ]
    },
    {
      "cell_type": "code",
      "metadata": {
        "id": "yLvmf3-NepX9"
      },
      "source": [
        "import pandas as pd\n",
        "import numpy as np\n",
        "import matplotlib.pyplot as plt\n",
        "import seaborn as sns\n",
        "%matplotlib inline\n",
        "sns.set_style(\"darkgrid\")\n",
        "plt.rcParams['figure.figsize'] = (14, 8)"
      ],
      "execution_count": 2,
      "outputs": []
    },
    {
      "cell_type": "code",
      "metadata": {
        "id": "I0hv5ASsqg3O"
      },
      "source": [
        ""
      ],
      "execution_count": null,
      "outputs": []
    },
    {
      "cell_type": "code",
      "metadata": {
        "colab": {
          "base_uri": "https://localhost:8080/"
        },
        "id": "tYVWJhjsqilo",
        "outputId": "ca5f0be7-5ab1-470d-8516-f56c747b55e2"
      },
      "source": [
        "from google.colab import drive\n",
        "drive.mount('/content/drive')"
      ],
      "execution_count": 1,
      "outputs": [
        {
          "output_type": "stream",
          "text": [
            "Mounted at /content/drive\n"
          ],
          "name": "stdout"
        }
      ]
    },
    {
      "cell_type": "markdown",
      "metadata": {
        "id": "VbXrOuLWq0Rd"
      },
      "source": [
        "**Importing IPL Dataset**\n",
        "\n",
        "We have imported the CSV dataset below with the help of pandas read_csv \n",
        "\n",
        "functions We can see the content of the dataset by using head(), tail() function."
      ]
    },
    {
      "cell_type": "code",
      "metadata": {
        "id": "Af369Wmoq1dj"
      },
      "source": [
        "path = '/content/drive/MyDrive/Capstone Project/capstone pro 1 - EDA/Data set/'\n",
        "deliveries= pd.read_csv(path + 'deliveries.csv')"
      ],
      "execution_count": 3,
      "outputs": []
    },
    {
      "cell_type": "code",
      "metadata": {
        "id": "v7DCmsLEq7dl"
      },
      "source": [
        "matches = pd.read_csv(path + 'matches.csv')"
      ],
      "execution_count": 4,
      "outputs": []
    },
    {
      "cell_type": "code",
      "metadata": {
        "colab": {
          "base_uri": "https://localhost:8080/",
          "height": 445
        },
        "id": "1dQ8gVMjrA8l",
        "outputId": "8f73eaf7-9c59-4757-a5f9-667e6dcb0035"
      },
      "source": [
        "matches.head()"
      ],
      "execution_count": 5,
      "outputs": [
        {
          "output_type": "execute_result",
          "data": {
            "text/html": [
              "<div>\n",
              "<style scoped>\n",
              "    .dataframe tbody tr th:only-of-type {\n",
              "        vertical-align: middle;\n",
              "    }\n",
              "\n",
              "    .dataframe tbody tr th {\n",
              "        vertical-align: top;\n",
              "    }\n",
              "\n",
              "    .dataframe thead th {\n",
              "        text-align: right;\n",
              "    }\n",
              "</style>\n",
              "<table border=\"1\" class=\"dataframe\">\n",
              "  <thead>\n",
              "    <tr style=\"text-align: right;\">\n",
              "      <th></th>\n",
              "      <th>id</th>\n",
              "      <th>Season</th>\n",
              "      <th>city</th>\n",
              "      <th>date</th>\n",
              "      <th>team1</th>\n",
              "      <th>team2</th>\n",
              "      <th>toss_winner</th>\n",
              "      <th>toss_decision</th>\n",
              "      <th>result</th>\n",
              "      <th>dl_applied</th>\n",
              "      <th>winner</th>\n",
              "      <th>win_by_runs</th>\n",
              "      <th>win_by_wickets</th>\n",
              "      <th>player_of_match</th>\n",
              "      <th>venue</th>\n",
              "      <th>umpire1</th>\n",
              "      <th>umpire2</th>\n",
              "      <th>umpire3</th>\n",
              "    </tr>\n",
              "  </thead>\n",
              "  <tbody>\n",
              "    <tr>\n",
              "      <th>0</th>\n",
              "      <td>1</td>\n",
              "      <td>IPL-2017</td>\n",
              "      <td>Hyderabad</td>\n",
              "      <td>05-04-2017</td>\n",
              "      <td>Sunrisers Hyderabad</td>\n",
              "      <td>Royal Challengers Bangalore</td>\n",
              "      <td>Royal Challengers Bangalore</td>\n",
              "      <td>field</td>\n",
              "      <td>normal</td>\n",
              "      <td>0</td>\n",
              "      <td>Sunrisers Hyderabad</td>\n",
              "      <td>35</td>\n",
              "      <td>0</td>\n",
              "      <td>Yuvraj Singh</td>\n",
              "      <td>Rajiv Gandhi International Stadium, Uppal</td>\n",
              "      <td>AY Dandekar</td>\n",
              "      <td>NJ Llong</td>\n",
              "      <td>NaN</td>\n",
              "    </tr>\n",
              "    <tr>\n",
              "      <th>1</th>\n",
              "      <td>2</td>\n",
              "      <td>IPL-2017</td>\n",
              "      <td>Pune</td>\n",
              "      <td>06-04-2017</td>\n",
              "      <td>Mumbai Indians</td>\n",
              "      <td>Rising Pune Supergiant</td>\n",
              "      <td>Rising Pune Supergiant</td>\n",
              "      <td>field</td>\n",
              "      <td>normal</td>\n",
              "      <td>0</td>\n",
              "      <td>Rising Pune Supergiant</td>\n",
              "      <td>0</td>\n",
              "      <td>7</td>\n",
              "      <td>SPD Smith</td>\n",
              "      <td>Maharashtra Cricket Association Stadium</td>\n",
              "      <td>A Nand Kishore</td>\n",
              "      <td>S Ravi</td>\n",
              "      <td>NaN</td>\n",
              "    </tr>\n",
              "    <tr>\n",
              "      <th>2</th>\n",
              "      <td>3</td>\n",
              "      <td>IPL-2017</td>\n",
              "      <td>Rajkot</td>\n",
              "      <td>07-04-2017</td>\n",
              "      <td>Gujarat Lions</td>\n",
              "      <td>Kolkata Knight Riders</td>\n",
              "      <td>Kolkata Knight Riders</td>\n",
              "      <td>field</td>\n",
              "      <td>normal</td>\n",
              "      <td>0</td>\n",
              "      <td>Kolkata Knight Riders</td>\n",
              "      <td>0</td>\n",
              "      <td>10</td>\n",
              "      <td>CA Lynn</td>\n",
              "      <td>Saurashtra Cricket Association Stadium</td>\n",
              "      <td>Nitin Menon</td>\n",
              "      <td>CK Nandan</td>\n",
              "      <td>NaN</td>\n",
              "    </tr>\n",
              "    <tr>\n",
              "      <th>3</th>\n",
              "      <td>4</td>\n",
              "      <td>IPL-2017</td>\n",
              "      <td>Indore</td>\n",
              "      <td>08-04-2017</td>\n",
              "      <td>Rising Pune Supergiant</td>\n",
              "      <td>Kings XI Punjab</td>\n",
              "      <td>Kings XI Punjab</td>\n",
              "      <td>field</td>\n",
              "      <td>normal</td>\n",
              "      <td>0</td>\n",
              "      <td>Kings XI Punjab</td>\n",
              "      <td>0</td>\n",
              "      <td>6</td>\n",
              "      <td>GJ Maxwell</td>\n",
              "      <td>Holkar Cricket Stadium</td>\n",
              "      <td>AK Chaudhary</td>\n",
              "      <td>C Shamshuddin</td>\n",
              "      <td>NaN</td>\n",
              "    </tr>\n",
              "    <tr>\n",
              "      <th>4</th>\n",
              "      <td>5</td>\n",
              "      <td>IPL-2017</td>\n",
              "      <td>Bangalore</td>\n",
              "      <td>08-04-2017</td>\n",
              "      <td>Royal Challengers Bangalore</td>\n",
              "      <td>Delhi Daredevils</td>\n",
              "      <td>Royal Challengers Bangalore</td>\n",
              "      <td>bat</td>\n",
              "      <td>normal</td>\n",
              "      <td>0</td>\n",
              "      <td>Royal Challengers Bangalore</td>\n",
              "      <td>15</td>\n",
              "      <td>0</td>\n",
              "      <td>KM Jadhav</td>\n",
              "      <td>M Chinnaswamy Stadium</td>\n",
              "      <td>NaN</td>\n",
              "      <td>NaN</td>\n",
              "      <td>NaN</td>\n",
              "    </tr>\n",
              "  </tbody>\n",
              "</table>\n",
              "</div>"
            ],
            "text/plain": [
              "   id    Season       city  ...         umpire1        umpire2 umpire3\n",
              "0   1  IPL-2017  Hyderabad  ...     AY Dandekar       NJ Llong     NaN\n",
              "1   2  IPL-2017       Pune  ...  A Nand Kishore         S Ravi     NaN\n",
              "2   3  IPL-2017     Rajkot  ...     Nitin Menon      CK Nandan     NaN\n",
              "3   4  IPL-2017     Indore  ...    AK Chaudhary  C Shamshuddin     NaN\n",
              "4   5  IPL-2017  Bangalore  ...             NaN            NaN     NaN\n",
              "\n",
              "[5 rows x 18 columns]"
            ]
          },
          "metadata": {},
          "execution_count": 5
        }
      ]
    },
    {
      "cell_type": "code",
      "metadata": {
        "colab": {
          "base_uri": "https://localhost:8080/",
          "height": 394
        },
        "id": "06gLK6FOrGWV",
        "outputId": "47751386-4436-4c36-abf6-abe6e60f71c1"
      },
      "source": [
        "matches.tail()"
      ],
      "execution_count": 6,
      "outputs": [
        {
          "output_type": "execute_result",
          "data": {
            "text/html": [
              "<div>\n",
              "<style scoped>\n",
              "    .dataframe tbody tr th:only-of-type {\n",
              "        vertical-align: middle;\n",
              "    }\n",
              "\n",
              "    .dataframe tbody tr th {\n",
              "        vertical-align: top;\n",
              "    }\n",
              "\n",
              "    .dataframe thead th {\n",
              "        text-align: right;\n",
              "    }\n",
              "</style>\n",
              "<table border=\"1\" class=\"dataframe\">\n",
              "  <thead>\n",
              "    <tr style=\"text-align: right;\">\n",
              "      <th></th>\n",
              "      <th>id</th>\n",
              "      <th>Season</th>\n",
              "      <th>city</th>\n",
              "      <th>date</th>\n",
              "      <th>team1</th>\n",
              "      <th>team2</th>\n",
              "      <th>toss_winner</th>\n",
              "      <th>toss_decision</th>\n",
              "      <th>result</th>\n",
              "      <th>dl_applied</th>\n",
              "      <th>winner</th>\n",
              "      <th>win_by_runs</th>\n",
              "      <th>win_by_wickets</th>\n",
              "      <th>player_of_match</th>\n",
              "      <th>venue</th>\n",
              "      <th>umpire1</th>\n",
              "      <th>umpire2</th>\n",
              "      <th>umpire3</th>\n",
              "    </tr>\n",
              "  </thead>\n",
              "  <tbody>\n",
              "    <tr>\n",
              "      <th>751</th>\n",
              "      <td>11347</td>\n",
              "      <td>IPL-2019</td>\n",
              "      <td>Mumbai</td>\n",
              "      <td>05-05-2019</td>\n",
              "      <td>Kolkata Knight Riders</td>\n",
              "      <td>Mumbai Indians</td>\n",
              "      <td>Mumbai Indians</td>\n",
              "      <td>field</td>\n",
              "      <td>normal</td>\n",
              "      <td>0</td>\n",
              "      <td>Mumbai Indians</td>\n",
              "      <td>0</td>\n",
              "      <td>9</td>\n",
              "      <td>HH Pandya</td>\n",
              "      <td>Wankhede Stadium</td>\n",
              "      <td>Nanda Kishore</td>\n",
              "      <td>O Nandan</td>\n",
              "      <td>S Ravi</td>\n",
              "    </tr>\n",
              "    <tr>\n",
              "      <th>752</th>\n",
              "      <td>11412</td>\n",
              "      <td>IPL-2019</td>\n",
              "      <td>Chennai</td>\n",
              "      <td>07-05-2019</td>\n",
              "      <td>Chennai Super Kings</td>\n",
              "      <td>Mumbai Indians</td>\n",
              "      <td>Chennai Super Kings</td>\n",
              "      <td>bat</td>\n",
              "      <td>normal</td>\n",
              "      <td>0</td>\n",
              "      <td>Mumbai Indians</td>\n",
              "      <td>0</td>\n",
              "      <td>6</td>\n",
              "      <td>AS Yadav</td>\n",
              "      <td>M. A. Chidambaram Stadium</td>\n",
              "      <td>Nigel Llong</td>\n",
              "      <td>Nitin Menon</td>\n",
              "      <td>Ian Gould</td>\n",
              "    </tr>\n",
              "    <tr>\n",
              "      <th>753</th>\n",
              "      <td>11413</td>\n",
              "      <td>IPL-2019</td>\n",
              "      <td>Visakhapatnam</td>\n",
              "      <td>08-05-2019</td>\n",
              "      <td>Sunrisers Hyderabad</td>\n",
              "      <td>Delhi Capitals</td>\n",
              "      <td>Delhi Capitals</td>\n",
              "      <td>field</td>\n",
              "      <td>normal</td>\n",
              "      <td>0</td>\n",
              "      <td>Delhi Capitals</td>\n",
              "      <td>0</td>\n",
              "      <td>2</td>\n",
              "      <td>RR Pant</td>\n",
              "      <td>ACA-VDCA Stadium</td>\n",
              "      <td>NaN</td>\n",
              "      <td>NaN</td>\n",
              "      <td>NaN</td>\n",
              "    </tr>\n",
              "    <tr>\n",
              "      <th>754</th>\n",
              "      <td>11414</td>\n",
              "      <td>IPL-2019</td>\n",
              "      <td>Visakhapatnam</td>\n",
              "      <td>10-05-2019</td>\n",
              "      <td>Delhi Capitals</td>\n",
              "      <td>Chennai Super Kings</td>\n",
              "      <td>Chennai Super Kings</td>\n",
              "      <td>field</td>\n",
              "      <td>normal</td>\n",
              "      <td>0</td>\n",
              "      <td>Chennai Super Kings</td>\n",
              "      <td>0</td>\n",
              "      <td>6</td>\n",
              "      <td>F du Plessis</td>\n",
              "      <td>ACA-VDCA Stadium</td>\n",
              "      <td>Sundaram Ravi</td>\n",
              "      <td>Bruce Oxenford</td>\n",
              "      <td>Chettithody Shamshuddin</td>\n",
              "    </tr>\n",
              "    <tr>\n",
              "      <th>755</th>\n",
              "      <td>11415</td>\n",
              "      <td>IPL-2019</td>\n",
              "      <td>Hyderabad</td>\n",
              "      <td>12-05-2019</td>\n",
              "      <td>Mumbai Indians</td>\n",
              "      <td>Chennai Super Kings</td>\n",
              "      <td>Mumbai Indians</td>\n",
              "      <td>bat</td>\n",
              "      <td>normal</td>\n",
              "      <td>0</td>\n",
              "      <td>Mumbai Indians</td>\n",
              "      <td>1</td>\n",
              "      <td>0</td>\n",
              "      <td>JJ Bumrah</td>\n",
              "      <td>Rajiv Gandhi Intl. Cricket Stadium</td>\n",
              "      <td>Nitin Menon</td>\n",
              "      <td>Ian Gould</td>\n",
              "      <td>Nigel Llong</td>\n",
              "    </tr>\n",
              "  </tbody>\n",
              "</table>\n",
              "</div>"
            ],
            "text/plain": [
              "        id    Season  ...         umpire2                  umpire3\n",
              "751  11347  IPL-2019  ...        O Nandan                   S Ravi\n",
              "752  11412  IPL-2019  ...     Nitin Menon                Ian Gould\n",
              "753  11413  IPL-2019  ...             NaN                      NaN\n",
              "754  11414  IPL-2019  ...  Bruce Oxenford  Chettithody Shamshuddin\n",
              "755  11415  IPL-2019  ...       Ian Gould              Nigel Llong\n",
              "\n",
              "[5 rows x 18 columns]"
            ]
          },
          "metadata": {},
          "execution_count": 6
        }
      ]
    },
    {
      "cell_type": "markdown",
      "metadata": {
        "id": "DyqrvRt9rIFV"
      },
      "source": [
        "**Checking IPL Dtataset Atributes**\n",
        "\n",
        "Before we proceed with our Python data analysis of IPL data, we should know what columns are present in the dataset, their count, and data type. For this, we use Pandas info() function. looking for and handling the NaN/null/Missing values."
      ]
    },
    {
      "cell_type": "code",
      "metadata": {
        "colab": {
          "base_uri": "https://localhost:8080/"
        },
        "id": "MRAOPRRCrOaL",
        "outputId": "ae0c6aae-d627-4cc2-9e44-92a1a922672b"
      },
      "source": [
        "matches.info()"
      ],
      "execution_count": 7,
      "outputs": [
        {
          "output_type": "stream",
          "text": [
            "<class 'pandas.core.frame.DataFrame'>\n",
            "RangeIndex: 756 entries, 0 to 755\n",
            "Data columns (total 18 columns):\n",
            " #   Column           Non-Null Count  Dtype \n",
            "---  ------           --------------  ----- \n",
            " 0   id               756 non-null    int64 \n",
            " 1   Season           756 non-null    object\n",
            " 2   city             749 non-null    object\n",
            " 3   date             756 non-null    object\n",
            " 4   team1            756 non-null    object\n",
            " 5   team2            756 non-null    object\n",
            " 6   toss_winner      756 non-null    object\n",
            " 7   toss_decision    756 non-null    object\n",
            " 8   result           756 non-null    object\n",
            " 9   dl_applied       756 non-null    int64 \n",
            " 10  winner           752 non-null    object\n",
            " 11  win_by_runs      756 non-null    int64 \n",
            " 12  win_by_wickets   756 non-null    int64 \n",
            " 13  player_of_match  752 non-null    object\n",
            " 14  venue            756 non-null    object\n",
            " 15  umpire1          754 non-null    object\n",
            " 16  umpire2          754 non-null    object\n",
            " 17  umpire3          119 non-null    object\n",
            "dtypes: int64(4), object(14)\n",
            "memory usage: 106.4+ KB\n"
          ],
          "name": "stdout"
        }
      ]
    },
    {
      "cell_type": "code",
      "metadata": {
        "colab": {
          "base_uri": "https://localhost:8080/",
          "height": 297
        },
        "id": "WVQWu7NErTLI",
        "outputId": "b41fd303-263c-45a7-ab72-fc827c4f6133"
      },
      "source": [
        "matches.describe()"
      ],
      "execution_count": 8,
      "outputs": [
        {
          "output_type": "execute_result",
          "data": {
            "text/html": [
              "<div>\n",
              "<style scoped>\n",
              "    .dataframe tbody tr th:only-of-type {\n",
              "        vertical-align: middle;\n",
              "    }\n",
              "\n",
              "    .dataframe tbody tr th {\n",
              "        vertical-align: top;\n",
              "    }\n",
              "\n",
              "    .dataframe thead th {\n",
              "        text-align: right;\n",
              "    }\n",
              "</style>\n",
              "<table border=\"1\" class=\"dataframe\">\n",
              "  <thead>\n",
              "    <tr style=\"text-align: right;\">\n",
              "      <th></th>\n",
              "      <th>id</th>\n",
              "      <th>dl_applied</th>\n",
              "      <th>win_by_runs</th>\n",
              "      <th>win_by_wickets</th>\n",
              "    </tr>\n",
              "  </thead>\n",
              "  <tbody>\n",
              "    <tr>\n",
              "      <th>count</th>\n",
              "      <td>756.000000</td>\n",
              "      <td>756.000000</td>\n",
              "      <td>756.000000</td>\n",
              "      <td>756.000000</td>\n",
              "    </tr>\n",
              "    <tr>\n",
              "      <th>mean</th>\n",
              "      <td>1792.178571</td>\n",
              "      <td>0.025132</td>\n",
              "      <td>13.283069</td>\n",
              "      <td>3.350529</td>\n",
              "    </tr>\n",
              "    <tr>\n",
              "      <th>std</th>\n",
              "      <td>3464.478148</td>\n",
              "      <td>0.156630</td>\n",
              "      <td>23.471144</td>\n",
              "      <td>3.387963</td>\n",
              "    </tr>\n",
              "    <tr>\n",
              "      <th>min</th>\n",
              "      <td>1.000000</td>\n",
              "      <td>0.000000</td>\n",
              "      <td>0.000000</td>\n",
              "      <td>0.000000</td>\n",
              "    </tr>\n",
              "    <tr>\n",
              "      <th>25%</th>\n",
              "      <td>189.750000</td>\n",
              "      <td>0.000000</td>\n",
              "      <td>0.000000</td>\n",
              "      <td>0.000000</td>\n",
              "    </tr>\n",
              "    <tr>\n",
              "      <th>50%</th>\n",
              "      <td>378.500000</td>\n",
              "      <td>0.000000</td>\n",
              "      <td>0.000000</td>\n",
              "      <td>4.000000</td>\n",
              "    </tr>\n",
              "    <tr>\n",
              "      <th>75%</th>\n",
              "      <td>567.250000</td>\n",
              "      <td>0.000000</td>\n",
              "      <td>19.000000</td>\n",
              "      <td>6.000000</td>\n",
              "    </tr>\n",
              "    <tr>\n",
              "      <th>max</th>\n",
              "      <td>11415.000000</td>\n",
              "      <td>1.000000</td>\n",
              "      <td>146.000000</td>\n",
              "      <td>10.000000</td>\n",
              "    </tr>\n",
              "  </tbody>\n",
              "</table>\n",
              "</div>"
            ],
            "text/plain": [
              "                 id  dl_applied  win_by_runs  win_by_wickets\n",
              "count    756.000000  756.000000   756.000000      756.000000\n",
              "mean    1792.178571    0.025132    13.283069        3.350529\n",
              "std     3464.478148    0.156630    23.471144        3.387963\n",
              "min        1.000000    0.000000     0.000000        0.000000\n",
              "25%      189.750000    0.000000     0.000000        0.000000\n",
              "50%      378.500000    0.000000     0.000000        4.000000\n",
              "75%      567.250000    0.000000    19.000000        6.000000\n",
              "max    11415.000000    1.000000   146.000000       10.000000"
            ]
          },
          "metadata": {},
          "execution_count": 8
        }
      ]
    },
    {
      "cell_type": "markdown",
      "metadata": {
        "id": "rnBW3I-wrVLD"
      },
      "source": [
        "The .csv file has data of IPL matches starting from the season 2008 to 2019.\n",
        "\n",
        "The biggest margin of victory for the team batting first(win_by_runs) is 146 runs.\n",
        "\n",
        "The biggest victory of the team batting second(win_by_wickets) is by 10 wickets.\n",
        "\n",
        "75% of the victorious teams that bat first won by a margin of 19 runs.\n",
        "\n",
        "75% of the victorious teams that bat second won by a margin of 6 wickets.\n",
        "\n",
        "There were 756 IPL matches hosted from 2008 to 2019.\n",
        "\n",
        "Let’s view the unique values of each column to help us understand the dataset better."
      ]
    },
    {
      "cell_type": "code",
      "metadata": {
        "colab": {
          "base_uri": "https://localhost:8080/"
        },
        "id": "Uca9VhkOrhEC",
        "outputId": "39526e87-2e42-4a55-af5d-f1ee2e312fb1"
      },
      "source": [
        "for col in matches:\n",
        "    print(matches[col].unique())"
      ],
      "execution_count": 9,
      "outputs": [
        {
          "output_type": "stream",
          "text": [
            "[    1     2     3     4     5     6     7     8     9    10    11    12\n",
            "    13    14    15    16    17    18    19    20    21    22    23    24\n",
            "    25    26    27    28    29    30    31    32    33    34    35    36\n",
            "    37    38    39    40    41    42    43    44    45    46    47    48\n",
            "    49    50    51    52    53    54    55    56    57    58    59    60\n",
            "    61    62    63    64    65    66    67    68    69    70    71    72\n",
            "    73    74    75    76    77    78    79    80    81    82    83    84\n",
            "    85    86    87    88    89    90    91    92    93    94    95    96\n",
            "    97    98    99   100   101   102   103   104   105   106   107   108\n",
            "   109   110   111   112   113   114   115   116   117   118   119   120\n",
            "   121   122   123   124   125   126   127   128   129   130   131   132\n",
            "   133   134   135   136   137   138   139   140   141   142   143   144\n",
            "   145   146   147   148   149   150   151   152   153   154   155   156\n",
            "   157   158   159   160   161   162   163   164   165   166   167   168\n",
            "   169   170   171   172   173   174   175   176   177   178   179   180\n",
            "   181   182   183   184   185   186   187   188   189   190   191   192\n",
            "   193   194   195   196   197   198   199   200   201   202   203   204\n",
            "   205   206   207   208   209   210   211   212   213   214   215   216\n",
            "   217   218   219   220   221   222   223   224   225   226   227   228\n",
            "   229   230   231   232   233   234   235   236   237   238   239   240\n",
            "   241   242   243   244   245   246   247   248   249   250   251   252\n",
            "   253   254   255   256   257   258   259   260   261   262   263   264\n",
            "   265   266   267   268   269   270   271   272   273   274   275   276\n",
            "   277   278   279   280   281   282   283   284   285   286   287   288\n",
            "   289   290   291   292   293   294   295   296   297   298   299   300\n",
            "   301   302   303   304   305   306   307   308   309   310   311   312\n",
            "   313   314   315   316   317   318   319   320   321   322   323   324\n",
            "   325   326   327   328   329   330   331   332   333   334   335   336\n",
            "   337   338   339   340   341   342   343   344   345   346   347   348\n",
            "   349   350   351   352   353   354   355   356   357   358   359   360\n",
            "   361   362   363   364   365   366   367   368   369   370   371   372\n",
            "   373   374   375   376   377   378   379   380   381   382   383   384\n",
            "   385   386   387   388   389   390   391   392   393   394   395   396\n",
            "   397   398   399   400   401   402   403   404   405   406   407   408\n",
            "   409   410   411   412   413   414   415   416   417   418   419   420\n",
            "   421   422   423   424   425   426   427   428   429   430   431   432\n",
            "   433   434   435   436   437   438   439   440   441   442   443   444\n",
            "   445   446   447   448   449   450   451   452   453   454   455   456\n",
            "   457   458   459   460   461   462   463   464   465   466   467   468\n",
            "   469   470   471   472   473   474   475   476   477   478   479   480\n",
            "   481   482   483   484   485   486   487   488   489   490   491   492\n",
            "   493   494   495   496   497   498   499   500   501   502   503   504\n",
            "   505   506   507   508   509   510   511   512   513   514   515   516\n",
            "   517   518   519   520   521   522   523   524   525   526   527   528\n",
            "   529   530   531   532   533   534   535   536   537   538   539   540\n",
            "   541   542   543   544   545   546   547   548   549   550   551   552\n",
            "   553   554   555   556   557   558   559   560   561   562   563   564\n",
            "   565   566   567   568   569   570   571   572   573   574   575   576\n",
            "   577   578   579   580   581   582   583   584   585   586   587   588\n",
            "   589   590   591   592   593   594   595   596   597   598   599   600\n",
            "   601   602   603   604   605   606   607   608   609   610   611   612\n",
            "   613   614   615   616   617   618   619   620   621   622   623   624\n",
            "   625   626   627   628   629   630   631   632   633   634   635   636\n",
            "  7894  7895  7896  7897  7898  7899  7900  7901  7902  7903  7904  7905\n",
            "  7906  7907  7908  7909  7910  7911  7912  7913  7914  7915  7916  7917\n",
            "  7918  7919  7920  7921  7922  7923  7924  7925  7926  7927  7928  7929\n",
            "  7930  7931  7932  7933  7934  7935  7936  7937  7938  7939  7940  7941\n",
            "  7942  7943  7944  7945  7946  7947  7948  7949  7950  7951  7952  7953\n",
            " 11137 11138 11139 11140 11141 11142 11143 11144 11145 11146 11147 11148\n",
            " 11149 11150 11151 11152 11153 11309 11310 11311 11312 11313 11314 11315\n",
            " 11316 11317 11318 11319 11320 11321 11322 11323 11324 11325 11326 11327\n",
            " 11328 11329 11330 11331 11332 11333 11334 11335 11336 11337 11338 11339\n",
            " 11340 11341 11342 11343 11344 11345 11346 11347 11412 11413 11414 11415]\n",
            "['IPL-2017' 'IPL-2008' 'IPL-2009' 'IPL-2010' 'IPL-2011' 'IPL-2012'\n",
            " 'IPL-2013' 'IPL-2014' 'IPL-2015' 'IPL-2016' 'IPL-2018' 'IPL-2019']\n",
            "['Hyderabad' 'Pune' 'Rajkot' 'Indore' 'Bangalore' 'Mumbai' 'Kolkata'\n",
            " 'Delhi' 'Chandigarh' 'Kanpur' 'Jaipur' 'Chennai' 'Cape Town'\n",
            " 'Port Elizabeth' 'Durban' 'Centurion' 'East London' 'Johannesburg'\n",
            " 'Kimberley' 'Bloemfontein' 'Ahmedabad' 'Cuttack' 'Nagpur' 'Dharamsala'\n",
            " 'Kochi' 'Visakhapatnam' 'Raipur' 'Ranchi' 'Abu Dhabi' 'Sharjah' nan\n",
            " 'Mohali' 'Bengaluru']\n",
            "['05-04-2017' '06-04-2017' '07-04-2017' '08-04-2017' '09-04-2017'\n",
            " '10-04-2017' '11-04-2017' '12-04-2017' '13-04-2017' '14-04-2017'\n",
            " '15-04-2017' '16-04-2017' '17-04-2017' '18-04-2017' '19-04-2017'\n",
            " '20-04-2017' '21-04-2017' '22-04-2017' '23-04-2017' '24-04-2017'\n",
            " '26-04-2017' '27-04-2017' '28-04-2017' '29-04-2017' '30-04-2017'\n",
            " '01-05-2017' '02-05-2017' '03-05-2017' '04-05-2017' '05-05-2017'\n",
            " '06-05-2017' '07-05-2017' '08-05-2017' '09-05-2017' '10-05-2017'\n",
            " '11-05-2017' '12-05-2017' '13-05-2017' '14-05-2017' '16-05-2017'\n",
            " '17-05-2017' '19-05-2017' '21-05-2017' '18-04-2008' '19-04-2008'\n",
            " '20-04-2008' '21-04-2008' '22-04-2008' '23-04-2008' '24-04-2008'\n",
            " '25-04-2008' '26-04-2008' '27-04-2008' '28-04-2008' '29-04-2008'\n",
            " '30-04-2008' '01-05-2008' '02-05-2008' '25-05-2008' '03-05-2008'\n",
            " '04-05-2008' '05-05-2008' '06-05-2008' '07-05-2008' '08-05-2008'\n",
            " '09-05-2008' '28-05-2008' '10-05-2008' '11-05-2008' '12-05-2008'\n",
            " '13-05-2008' '14-05-2008' '15-05-2008' '16-05-2008' '17-05-2008'\n",
            " '18-05-2008' '19-05-2008' '20-05-2008' '21-05-2008' '23-05-2008'\n",
            " '24-05-2008' '26-05-2008' '27-05-2008' '30-05-2008' '31-05-2008'\n",
            " '01-06-2008' '18-04-2009' '19-04-2009' '20-04-2009' '21-04-2009'\n",
            " '22-04-2009' '23-04-2009' '24-04-2009' '25-04-2009' '26-04-2009'\n",
            " '27-04-2009' '28-04-2009' '29-04-2009' '30-04-2009' '01-05-2009'\n",
            " '02-05-2009' '03-05-2009' '04-05-2009' '05-05-2009' '06-05-2009'\n",
            " '07-05-2009' '08-05-2009' '09-05-2009' '10-05-2009' '11-05-2009'\n",
            " '12-05-2009' '13-05-2009' '14-05-2009' '15-05-2009' '16-05-2009'\n",
            " '17-05-2009' '18-05-2009' '19-05-2009' '20-05-2009' '21-05-2009'\n",
            " '22-05-2009' '23-05-2009' '24-05-2009' '12-03-2010' '13-03-2010'\n",
            " '14-03-2010' '15-03-2010' '16-03-2010' '17-03-2010' '18-03-2010'\n",
            " '19-03-2010' '20-03-2010' '21-03-2010' '22-03-2010' '23-03-2010'\n",
            " '24-03-2010' '25-03-2010' '26-03-2010' '27-03-2010' '28-03-2010'\n",
            " '29-03-2010' '30-03-2010' '31-03-2010' '01-04-2010' '02-04-2010'\n",
            " '03-04-2010' '04-04-2010' '05-04-2010' '06-04-2010' '07-04-2010'\n",
            " '08-04-2010' '09-04-2010' '10-04-2010' '11-04-2010' '12-04-2010'\n",
            " '13-04-2010' '14-04-2010' '15-04-2010' '16-04-2010' '17-04-2010'\n",
            " '18-04-2010' '19-04-2010' '21-04-2010' '22-04-2010' '24-04-2010'\n",
            " '25-04-2010' '08-04-2011' '09-04-2011' '10-04-2011' '11-04-2011'\n",
            " '12-04-2011' '13-04-2011' '14-04-2011' '15-04-2011' '16-04-2011'\n",
            " '17-04-2011' '18-04-2011' '19-04-2011' '20-04-2011' '21-04-2011'\n",
            " '22-04-2011' '23-04-2011' '24-04-2011' '25-04-2011' '26-04-2011'\n",
            " '27-04-2011' '28-04-2011' '29-04-2011' '30-04-2011' '01-05-2011'\n",
            " '02-05-2011' '03-05-2011' '04-05-2011' '05-05-2011' '06-05-2011'\n",
            " '07-05-2011' '08-05-2011' '09-05-2011' '10-05-2011' '11-05-2011'\n",
            " '12-05-2011' '13-05-2011' '14-05-2011' '15-05-2011' '16-05-2011'\n",
            " '17-05-2011' '18-05-2011' '19-05-2011' '20-05-2011' '21-05-2011'\n",
            " '22-05-2011' '24-05-2011' '25-05-2011' '27-05-2011' '28-05-2011'\n",
            " '04-04-2012' '05-04-2012' '06-04-2012' '07-04-2012' '08-04-2012'\n",
            " '09-04-2012' '10-04-2012' '11-04-2012' '12-04-2012' '13-04-2012'\n",
            " '19-04-2012' '14-04-2012' '15-04-2012' '16-04-2012' '17-04-2012'\n",
            " '18-04-2012' '10-05-2012' '20-04-2012' '21-04-2012' '22-04-2012'\n",
            " '23-04-2012' '24-04-2012' '25-04-2012' '26-04-2012' '27-04-2012'\n",
            " '28-04-2012' '29-04-2012' '30-04-2012' '01-05-2012' '02-05-2012'\n",
            " '03-05-2012' '04-05-2012' '05-05-2012' '06-05-2012' '07-05-2012'\n",
            " '08-05-2012' '09-05-2012' '11-05-2012' '12-05-2012' '13-05-2012'\n",
            " '14-05-2012' '15-05-2012' '16-05-2012' '17-05-2012' '18-05-2012'\n",
            " '19-05-2012' '20-05-2012' '22-05-2012' '23-05-2012' '25-05-2012'\n",
            " '27-05-2012' '03-04-2013' '04-04-2013' '05-04-2013' '06-04-2013'\n",
            " '07-04-2013' '08-04-2013' '09-04-2013' '10-04-2013' '11-04-2013'\n",
            " '12-04-2013' '13-04-2013' '14-04-2013' '15-04-2013' '16-04-2013'\n",
            " '17-04-2013' '18-04-2013' '19-04-2013' '20-04-2013' '21-04-2013'\n",
            " '22-04-2013' '23-04-2013' '16-05-2013' '24-04-2013' '25-04-2013'\n",
            " '26-04-2013' '27-04-2013' '28-04-2013' '29-04-2013' '30-04-2013'\n",
            " '01-05-2013' '02-05-2013' '03-05-2013' '04-05-2013' '14-05-2013'\n",
            " '05-05-2013' '07-05-2013' '08-05-2013' '09-05-2013' '10-05-2013'\n",
            " '11-05-2013' '12-05-2013' '13-05-2013' '15-05-2013' '06-05-2013'\n",
            " '17-05-2013' '18-05-2013' '19-05-2013' '21-05-2013' '22-05-2013'\n",
            " '24-05-2013' '26-05-2013' '16-04-2014' '17-04-2014' '18-04-2014'\n",
            " '19-04-2014' '20-04-2014' '21-04-2014' '22-04-2014' '23-04-2014'\n",
            " '24-04-2014' '25-04-2014' '26-04-2014' '27-04-2014' '28-04-2014'\n",
            " '29-04-2014' '30-04-2014' '02-05-2014' '03-05-2014' '04-05-2014'\n",
            " '05-05-2014' '06-05-2014' '07-05-2014' '08-05-2014' '09-05-2014'\n",
            " '10-05-2014' '11-05-2014' '12-05-2014' '13-05-2014' '14-05-2014'\n",
            " '15-05-2014' '18-05-2014' '19-05-2014' '20-05-2014' '21-05-2014'\n",
            " '22-05-2014' '23-05-2014' '24-05-2014' '25-05-2014' '27-05-2014'\n",
            " '28-05-2014' '30-05-2014' '01-06-2014' '08-04-2015' '09-04-2015'\n",
            " '10-04-2015' '11-04-2015' '12-04-2015' '13-04-2015' '14-04-2015'\n",
            " '30-04-2015' '15-04-2015' '16-04-2015' '17-04-2015' '18-04-2015'\n",
            " '19-04-2015' '20-04-2015' '21-04-2015' '22-04-2015' '23-04-2015'\n",
            " '24-04-2015' '25-04-2015' '26-04-2015' '27-04-2015' '07-05-2015'\n",
            " '29-04-2015' '28-04-2015' '01-05-2015' '02-05-2015' '03-05-2015'\n",
            " '04-05-2015' '05-05-2015' '06-05-2015' '08-05-2015' '09-05-2015'\n",
            " '10-05-2015' '11-05-2015' '12-05-2015' '13-05-2015' '14-05-2015'\n",
            " '15-05-2015' '16-05-2015' '17-05-2015' '19-05-2015' '20-05-2015'\n",
            " '22-05-2015' '24-05-2015' '09-04-2016' '10-04-2016' '11-04-2016'\n",
            " '12-04-2016' '13-04-2016' '14-04-2016' '15-04-2016' '16-04-2016'\n",
            " '17-04-2016' '18-04-2016' '19-04-2016' '20-04-2016' '21-04-2016'\n",
            " '22-04-2016' '23-04-2016' '24-04-2016' '25-04-2016' '26-04-2016'\n",
            " '27-04-2016' '28-04-2016' '29-04-2016' '30-04-2016' '01-05-2016'\n",
            " '02-05-2016' '03-05-2016' '04-05-2016' '05-05-2016' '06-05-2016'\n",
            " '07-05-2016' '08-05-2016' '09-05-2016' '10-05-2016' '11-05-2016'\n",
            " '12-05-2016' '13-05-2016' '14-05-2016' '15-05-2016' '16-05-2016'\n",
            " '17-05-2016' '18-05-2016' '19-05-2016' '20-05-2016' '21-05-2016'\n",
            " '22-05-2016' '24-05-2016' '25-05-2016' '27-05-2016' '29-05-2016'\n",
            " '07-04-2018' '08-04-2018' '09-04-2018' '10-04-2018' '11-04-2018'\n",
            " '12-04-2018' '13-04-2018' '14-04-2018' '15-04-2018' '16-04-2018'\n",
            " '17-04-2018' '18-04-2018' '19-04-2018' '20-04-2018' '21-04-2018'\n",
            " '22-04-2018' '23-04-2018' '24-04-2018' '25-04-2018' '26-04-2018'\n",
            " '27-04-2018' '28-04-2018' '29-04-2018' '30-04-2018' '01-05-2018'\n",
            " '02-05-2018' '03-05-2018' '04-05-2018' '05-05-2018' '06-05-2018'\n",
            " '07-05-2018' '08-05-2018' '09-05-2018' '10-05-2018' '11-05-2018'\n",
            " '12-05-2018' '13-05-2018' '14-05-2018' '15-05-2018' '16-05-2018'\n",
            " '17-05-2018' '18-05-2018' '19-05-2018' '20-05-2018' '22-05-2018'\n",
            " '23-05-2018' '25-05-2018' '27-05-2018' '23-03-2019' '24-03-2019'\n",
            " '25-03-2019' '26-03-2019' '27-03-2019' '28-03-2019' '29-03-2019'\n",
            " '30-03-2019' '31-03-2019' '01-04-2019' '02-04-2019' '03-04-2019'\n",
            " '04-04-2019' '05-04-2019' '06-04-2019' '07-04-2019' '08-04-2019'\n",
            " '09-04-2019' '10-04-2019' '11-04-2019' '12-04-2019' '13-04-2019'\n",
            " '14-04-2019' '15-04-2019' '16-04-2019' '17-04-2019' '18-04-2019'\n",
            " '19-04-2019' '20-04-2019' '21-04-2019' '22-04-2019' '23-04-2019'\n",
            " '24-04-2019' '25-04-2019' '26-04-2019' '27-04-2019' '28-04-2019'\n",
            " '29-04-2019' '30-04-2019' '01-05-2019' '02-05-2019' '03-05-2019'\n",
            " '04-05-2019' '05-05-2019' '07-05-2019' '08-05-2019' '10-05-2019'\n",
            " '12-05-2019']\n",
            "['Sunrisers Hyderabad' 'Mumbai Indians' 'Gujarat Lions'\n",
            " 'Rising Pune Supergiant' 'Royal Challengers Bangalore'\n",
            " 'Kolkata Knight Riders' 'Delhi Daredevils' 'Kings XI Punjab'\n",
            " 'Chennai Super Kings' 'Rajasthan Royals' 'Deccan Chargers'\n",
            " 'Kochi Tuskers Kerala' 'Pune Warriors' 'Rising Pune Supergiants'\n",
            " 'Delhi Capitals']\n",
            "['Royal Challengers Bangalore' 'Rising Pune Supergiant'\n",
            " 'Kolkata Knight Riders' 'Kings XI Punjab' 'Delhi Daredevils'\n",
            " 'Sunrisers Hyderabad' 'Mumbai Indians' 'Gujarat Lions' 'Rajasthan Royals'\n",
            " 'Chennai Super Kings' 'Deccan Chargers' 'Pune Warriors'\n",
            " 'Kochi Tuskers Kerala' 'Rising Pune Supergiants' 'Delhi Capitals']\n",
            "['Royal Challengers Bangalore' 'Rising Pune Supergiant'\n",
            " 'Kolkata Knight Riders' 'Kings XI Punjab' 'Sunrisers Hyderabad'\n",
            " 'Mumbai Indians' 'Gujarat Lions' 'Delhi Daredevils' 'Chennai Super Kings'\n",
            " 'Rajasthan Royals' 'Deccan Chargers' 'Kochi Tuskers Kerala'\n",
            " 'Pune Warriors' 'Rising Pune Supergiants' 'Delhi Capitals']\n",
            "['field' 'bat']\n",
            "['normal' 'tie' 'no result']\n",
            "[0 1]\n",
            "['Sunrisers Hyderabad' 'Rising Pune Supergiant' 'Kolkata Knight Riders'\n",
            " 'Kings XI Punjab' 'Royal Challengers Bangalore' 'Mumbai Indians'\n",
            " 'Delhi Daredevils' 'Gujarat Lions' 'Chennai Super Kings'\n",
            " 'Rajasthan Royals' 'Deccan Chargers' 'Pune Warriors'\n",
            " 'Kochi Tuskers Kerala' nan 'Rising Pune Supergiants' 'Delhi Capitals']\n",
            "[ 35   0  15  97  17  51  27   5  21  14  26  82   3  61  48  19  12 146\n",
            "   7   9  10  20   1 140  33   6  66  13  45  29  18  23  41  65  25 105\n",
            "  75  92  11  24  38   8  78  16  53   2   4  31  55  98  34  36  39  40\n",
            "  67  63  37  57  22  85  32  76 111  43  58  28  74  42  59  46  47  86\n",
            "  44  87 130  60  77  30  50  93  72  62 138  71 144  80  64 102 118]\n",
            "[ 0  7 10  6  9  4  8  5  2  3  1]\n",
            "['Yuvraj Singh' 'SPD Smith' 'CA Lynn' 'GJ Maxwell' 'KM Jadhav'\n",
            " 'Rashid Khan' 'N Rana' 'AR Patel' 'SV Samson' 'JJ Bumrah' 'SP Narine'\n",
            " 'KA Pollard' 'AJ Tye' 'RV Uthappa' 'CJ Anderson' 'BA Stokes'\n",
            " 'NM Coulter-Nile' 'B Kumar' 'CH Gayle' 'KS Williamson' 'JC Buttler'\n",
            " 'SK Raina' 'MJ McClenaghan' 'MS Dhoni' 'HM Amla' 'G Gambhir'\n",
            " 'LH Ferguson' 'KH Pandya' 'Sandeep Sharma' 'DA Warner' 'RG Sharma'\n",
            " 'Mohammed Shami' 'RA Tripathi' 'RR Pant' 'JD Unadkat' 'LMP Simmons'\n",
            " 'DR Smith' 'S Dhawan' 'MM Sharma' 'SS Iyer' 'WP Saha' 'KK Nair'\n",
            " 'Mohammed Siraj' 'AT Rayudu' 'HV Patel' 'Washington Sundar' 'KV Sharma'\n",
            " 'BB McCullum' 'MEK Hussey' 'MF Maharoof' 'MV Boucher' 'DJ Hussey'\n",
            " 'SR Watson' 'V Sehwag' 'ML Hayden' 'YK Pathan' 'KC Sangakkara' 'JDP Oram'\n",
            " 'AC Gilchrist' 'SM Katich' 'ST Jayasuriya' 'GD McGrath' 'SE Marsh'\n",
            " 'SA Asnodkar' 'R Vinay Kumar' 'IK Pathan' 'SM Pollock' 'Sohail Tanvir'\n",
            " 'S Sreesanth' 'A Nehra' 'SC Ganguly' 'CRD Fernando' 'L Balaji'\n",
            " 'Shoaib Akhtar' 'A Mishra' 'DPMD Jayawardene' 'GC Smith' 'DJ Bravo'\n",
            " 'M Ntini' 'SP Goswami' 'A Kumble' 'KD Karthik' 'JA Morkel' 'P Kumar'\n",
            " 'Umar Gul' 'SR Tendulkar' 'R Dravid' 'DL Vettori' 'RP Singh'\n",
            " 'M Muralitharan' 'AB de Villiers' 'RS Bopara' 'PP Ojha' 'TM Dilshan'\n",
            " 'HH Gibbs' 'DP Nannes' 'JP Duminy' 'SB Jakati' 'JH Kallis' 'A Singh'\n",
            " 'S Badrinath' 'LRPL Taylor' 'Harbhajan Singh' 'R Bhatia' 'SK Warne'\n",
            " 'B Lee' 'BJ Hodge' 'LR Shukla' 'MK Pandey' 'AD Mathews' 'MK Tiwary'\n",
            " 'WPUJC Vaas' 'A Symonds' 'AA Jhunjhunwala' 'J Theron' 'AC Voges'\n",
            " 'NV Ojha' 'SL Malinga' 'M Vijay' 'KP Pietersen' 'PD Collingwood'\n",
            " 'MJ Lumb' 'TL Suman' 'RJ Harris' 'PP Chawla' 'Harmeet Singh' 'R Ashwin'\n",
            " 'R McLaren' 'M Kartik' 'DE Bollinger' 'S Anirudha' 'SK Trivedi' 'SB Wagh'\n",
            " 'PC Valthaty' 'MD Mishra' 'DW Steyn' 'S Sohal' 'MM Patel' 'V Kohli'\n",
            " 'I Sharma' 'J Botha' 'Iqbal Abdulla' 'P Parameswaran' 'R Sharma'\n",
            " 'MR Marsh' 'BA Bhatt' 'S Aravind' nan 'JEC Franklin' 'RE Levi'\n",
            " 'AM Rahane' 'RA Jadeja' 'MN Samuels' 'M Morkel' 'F du Plessis'\n",
            " 'AD Mascarenhas' 'Shakib Al Hasan' 'JD Ryder' 'S Nadeem'\n",
            " 'KMDN Kulasekara' 'CL White' 'Mandeep Singh' 'P Negi' 'Azhar Mahmood'\n",
            " 'BW Hilfenhaus' 'A Chandila' 'UT Yadav' 'MS Bisla' 'M Vohra' 'GH Vihari'\n",
            " 'AJ Finch' 'JP Faulkner' 'MS Gony' 'DA Miller' 'DJG Sammy' 'MG Johnson'\n",
            " 'KK Cooper' 'PA Patel' 'AP Tare' 'LJ Wright' 'YS Chahal' 'PV Tambe'\n",
            " 'DJ Hooda' 'GJ Bailey' 'AD Russell' 'MA Agarwal' 'MA Starc' 'VR Aaron'\n",
            " 'TA Boult' 'EJG Morgan' 'HH Pandya' 'MC Henriques' 'Z Khan' 'Q de Kock'\n",
            " 'Mustafizur Rahman' 'SA Yadav' 'AB Dinda' 'CH Morris' 'CR Brathwaite'\n",
            " 'MP Stoinis' 'A Zampa' 'BCJ Cutting' 'KL Rahul' 'SW Billings' 'JJ Roy'\n",
            " 'B Stanlake' 'J Archer' 'AS Rajpoot' 'TG Southee' 'AS Yadav'\n",
            " 'M Ur Rahman' 'Ishan Kishan' 'Kuldeep Yadav' 'S Gopal' 'L Ngidi' 'P Shaw'\n",
            " 'J Bairstow' 'S Curran' 'A Joseph' 'K Rabada' 'H Gurney' 'DL Chahar'\n",
            " 'Imran Tahir' 'K Paul' 'K Ahmed' 'S Gill' 'S Hetmyer']\n",
            "['Rajiv Gandhi International Stadium, Uppal'\n",
            " 'Maharashtra Cricket Association Stadium'\n",
            " 'Saurashtra Cricket Association Stadium' 'Holkar Cricket Stadium'\n",
            " 'M Chinnaswamy Stadium' 'Wankhede Stadium' 'Eden Gardens'\n",
            " 'Feroz Shah Kotla' 'Punjab Cricket Association IS Bindra Stadium, Mohali'\n",
            " 'Green Park' 'Punjab Cricket Association Stadium, Mohali'\n",
            " 'Sawai Mansingh Stadium' 'MA Chidambaram Stadium, Chepauk'\n",
            " 'Dr DY Patil Sports Academy' 'Newlands' \"St George's Park\" 'Kingsmead'\n",
            " 'SuperSport Park' 'Buffalo Park' 'New Wanderers Stadium'\n",
            " 'De Beers Diamond Oval' 'OUTsurance Oval' 'Brabourne Stadium'\n",
            " 'Sardar Patel Stadium, Motera' 'Barabati Stadium'\n",
            " 'Vidarbha Cricket Association Stadium, Jamtha'\n",
            " 'Himachal Pradesh Cricket Association Stadium' 'Nehru Stadium'\n",
            " 'Dr. Y.S. Rajasekhara Reddy ACA-VDCA Cricket Stadium'\n",
            " 'Subrata Roy Sahara Stadium'\n",
            " 'Shaheed Veer Narayan Singh International Stadium'\n",
            " 'JSCA International Stadium Complex' 'Sheikh Zayed Stadium'\n",
            " 'Sharjah Cricket Stadium' 'Dubai International Cricket Stadium'\n",
            " 'M. A. Chidambaram Stadium' 'Feroz Shah Kotla Ground'\n",
            " 'M. Chinnaswamy Stadium' 'Rajiv Gandhi Intl. Cricket Stadium'\n",
            " 'IS Bindra Stadium' 'ACA-VDCA Stadium']\n",
            "['AY Dandekar' 'A Nand Kishore' 'Nitin Menon' 'AK Chaudhary' nan\n",
            " 'A Deshmukh' 'KN Ananthapadmanabhan' 'YC Barde' 'S Ravi' 'CB Gaffaney'\n",
            " 'M Erasmus' 'NJ Llong' 'CK Nandan' 'Asad Rauf' 'MR Benson' 'Aleem Dar'\n",
            " 'SJ Davis' 'BF Bowden' 'IL Howell' 'DJ Harper' 'RE Koertzen'\n",
            " 'BR Doctrove' 'AV Jayaprakash' 'BG Jerling' 'HDPK Dharmasena' 'S Asnani'\n",
            " 'GAV Baxter' 'SS Hazare' 'K Hariharan' 'SL Shastri' 'SK Tarapore'\n",
            " 'SJA Taufel' 'S Das' 'AM Saheba' 'PR Reiffel' 'JD Cloete' 'VA Kulkarni'\n",
            " 'BNJ Oxenford' 'C Shamshuddin' 'RK Illingworth' 'RM Deshpande'\n",
            " 'K Srinath' 'SD Fry' 'PG Pathak' 'K Bharatan' 'Chris Gaffaney'\n",
            " 'Rod Tucker' 'Nigel Llong' 'Anil Chaudhary' 'K Ananthapadmanabhan'\n",
            " 'O Nandan' 'A Nanda Kishore' 'Vineet Kulkarni' 'Bruce Oxenford'\n",
            " 'Marais Erasmus' 'Kumar Dharmasena' 'Anil Dandekar' 'Yeshwant Barde'\n",
            " 'Ian Gould' 'Ulhas Gandhe' 'Nanda Kishore' 'Sundaram Ravi']\n",
            "['NJ Llong' 'S Ravi' 'CK Nandan' 'C Shamshuddin' nan 'AK Chaudhary'\n",
            " 'Nitin Menon' 'A Deshmukh' 'VK Sharma' 'M Erasmus' 'CB Gaffaney'\n",
            " 'A Nand Kishore' 'RE Koertzen' 'SL Shastri' 'GA Pratapkumar' 'DJ Harper'\n",
            " 'K Hariharan' 'RB Tiffin' 'AM Saheba' 'MR Benson' 'IL Howell'\n",
            " 'AV Jayaprakash' 'I Shivram' 'BR Doctrove' 'BG Jerling' 'SJ Davis'\n",
            " 'SD Ranade' 'SJA Taufel' 'TH Wijewardene' 'SK Tarapore' 'HDPK Dharmasena'\n",
            " 'SS Hazare' 'PR Reiffel' 'AL Hill' 'RJ Tucker' 'VA Kulkarni' 'JD Cloete'\n",
            " 'BNJ Oxenford' 'S Asnani' 'S Das' 'K Srinath' 'Subroto Das'\n",
            " 'RK Illingworth' 'PG Pathak' 'K Srinivasan' 'SD Fry' 'A Nanda Kishore'\n",
            " 'K Ananthapadmanabhan' 'A.D Deshmukh' 'Vineet Kulkarni' 'Chris Gaffaney'\n",
            " 'Rod Tucker' 'Nigel Llong' 'Anil Chaudhary' 'O Nandan'\n",
            " 'Virender Kumar Sharma' 'Yeshwant Barde' 'Anil Dandekar'\n",
            " 'Kumar Dharmasena' 'KN Anantapadmanabhan' 'Ulhas Gandhe' 'Nanda Kishore'\n",
            " 'Bruce Oxenford' 'Nand Kishore' 'KN Ananthapadmanabhan' 'Ian Gould']\n",
            "[nan 'Anil Chaudhary' 'Nitin Menon' 'S Ravi' 'O Nandan' 'A Nanda Kishore'\n",
            " 'Vineet Kulkarni' 'C Shamshuddin' 'Rod Tucker' 'Chris Gaffaney'\n",
            " 'A.D Deshmukh' 'Nigel Llong' 'K Ananthapadmanabhan' 'Anil Dandekar'\n",
            " 'Virender Kumar Sharma' 'Yeshwant Barde' 'Bruce Oxenford'\n",
            " 'Marais Erasmus' 'Kumar Dharmasena' 'KN Anantapadmanabhan' 'Ulhas Gandhe'\n",
            " 'Nanda Kishore' 'Ian Gould' 'Sundaram Ravi' 'KN Ananthapadmanabhan'\n",
            " 'Chettithody Shamshuddin']\n"
          ],
          "name": "stdout"
        }
      ]
    },
    {
      "cell_type": "code",
      "metadata": {
        "colab": {
          "base_uri": "https://localhost:8080/"
        },
        "id": "lDtB1MvdrpqC",
        "outputId": "c72b2f56-029f-4948-e19f-f86a94f60575"
      },
      "source": [
        "matches.columns"
      ],
      "execution_count": 10,
      "outputs": [
        {
          "output_type": "execute_result",
          "data": {
            "text/plain": [
              "Index(['id', 'Season', 'city', 'date', 'team1', 'team2', 'toss_winner',\n",
              "       'toss_decision', 'result', 'dl_applied', 'winner', 'win_by_runs',\n",
              "       'win_by_wickets', 'player_of_match', 'venue', 'umpire1', 'umpire2',\n",
              "       'umpire3'],\n",
              "      dtype='object')"
            ]
          },
          "metadata": {},
          "execution_count": 10
        }
      ]
    },
    {
      "cell_type": "markdown",
      "metadata": {
        "id": "Uvxz9-O9rsEB"
      },
      "source": [
        "The dataset has 18 columns.\n",
        "\n",
        "Let’s get acquainted with the columns.\n",
        "\n",
        "**id**: The IPL match id.\n",
        "\n",
        "**Season**: The IPL Season\n",
        "\n",
        "**city**: The city where the IPL match was held.\n",
        "\n",
        "**date**: The date on which the match was held.\n",
        "\n",
        "**team1**: One of the teams of the IPL match.\n",
        "\n",
        "**team2**: The other team of the IPL match.\n",
        "\n",
        "**toss_winner**: The team that won the toss.\n",
        "\n",
        "**toss_decision**: The decision taken by the team that won the toss to ‘bat’ or ‘field’.\n",
        "\n",
        "**result**: The result(‘normal’, ‘tie’, ‘no result’) of the match.\n",
        "\n",
        "**dl_applied**: (1 or 0)indicates whether the Duckworth-Lewis rule was applied or not.\n",
        "\n",
        "**winner**: The winner of the match.\n",
        "\n",
        "**win_by_runs**: Provides the runs by which the team batting first won.\n",
        "\n",
        "**win_by_wickets**: Provides the number of wickets by which the team batting second won.\n",
        "\n",
        "**player_of_match**: The outstanding player of the match.\n",
        "\n",
        "**venue**: The venue where the match was hosted.\n",
        "\n",
        "**umpire1:** One of the two on-field umpires who officiate the match.\n",
        "\n",
        "**umpire2:** One of the two on-field umpires who officiate the match.\n",
        "\n",
        "**umpire3:** The off-field umpire who officiates the match,\n",
        "\n",
        "A mere glance of the DataFrame through its columns indicates the presence of NaN values in the ‘umpire3’ column. Let’s see the count of NaN values in the column.\n"
      ]
    },
    {
      "cell_type": "code",
      "metadata": {
        "colab": {
          "base_uri": "https://localhost:8080/"
        },
        "id": "atOJRwj5r9qE",
        "outputId": "c610827f-06e8-4fe7-8194-fe34e5b33a28"
      },
      "source": [
        "matches.isnull().sum()"
      ],
      "execution_count": 11,
      "outputs": [
        {
          "output_type": "execute_result",
          "data": {
            "text/plain": [
              "id                   0\n",
              "Season               0\n",
              "city                 7\n",
              "date                 0\n",
              "team1                0\n",
              "team2                0\n",
              "toss_winner          0\n",
              "toss_decision        0\n",
              "result               0\n",
              "dl_applied           0\n",
              "winner               4\n",
              "win_by_runs          0\n",
              "win_by_wickets       0\n",
              "player_of_match      4\n",
              "venue                0\n",
              "umpire1              2\n",
              "umpire2              2\n",
              "umpire3            637\n",
              "dtype: int64"
            ]
          },
          "metadata": {},
          "execution_count": 11
        }
      ]
    },
    {
      "cell_type": "markdown",
      "metadata": {
        "id": "P85zQbrlsDbS"
      },
      "source": [
        "The column ‘umpire3’ has a significant number of NaN values. As the off-field umpire parameter is insignificant, we can drop this column. The other columns that have Nan values are of type object and are very few in number(<=7)."
      ]
    },
    {
      "cell_type": "code",
      "metadata": {
        "id": "H9ngtCzgsBmx"
      },
      "source": [
        "matches = matches.drop(columns=['umpire3'], axis=1)"
      ],
      "execution_count": 12,
      "outputs": []
    },
    {
      "cell_type": "markdown",
      "metadata": {
        "id": "VOV0Cd_YsLX4"
      },
      "source": [
        "**IPL Data Analysis and Visualization**\n",
        "\n",
        "Now, with a basic understanding of the attributes let us now start our project of data analysis and visualization of the IPL dataset with Python. We will initially perform simple statistical analysis and then slowly build to more advanced analysis."
      ]
    },
    {
      "cell_type": "markdown",
      "metadata": {
        "id": "oSHuaxmNsMcY"
      },
      "source": [
        "**General Analysis of IPL Matches**\n",
        "\n",
        "**1.How many matches we've got in data sheet?**\n",
        "\n",
        "As we’ve seen above, id is a variable that counts each observation in the data while each observation is a match. So to get the number of matches in our dataset is as same as to get the number of rows in the dataset or length of the variable id."
      ]
    },
    {
      "cell_type": "code",
      "metadata": {
        "colab": {
          "base_uri": "https://localhost:8080/"
        },
        "id": "kTEcFeaZsQE4",
        "outputId": "f1220bd1-cfb6-4de4-df7e-af21d1f942ac"
      },
      "source": [
        "len(matches['id'])"
      ],
      "execution_count": 13,
      "outputs": [
        {
          "output_type": "execute_result",
          "data": {
            "text/plain": [
              "756"
            ]
          },
          "metadata": {},
          "execution_count": 13
        }
      ]
    },
    {
      "cell_type": "markdown",
      "metadata": {
        "id": "8Jq0oRaCsT4y"
      },
      "source": [
        "756 IPL Matches is what we’ve got in our dataset"
      ]
    },
    {
      "cell_type": "markdown",
      "metadata": {
        "id": "ku4xc_YysXB3"
      },
      "source": [
        "**2.How many seasons we've got in the dataset?**\n",
        "\n",
        "\n",
        "\n",
        "IPL like any other Sports league, happens once in a year and so getting the number of unique years we’ve got in the dataset will tell us how many seasons we’ve got in the dataset."
      ]
    },
    {
      "cell_type": "code",
      "metadata": {
        "colab": {
          "base_uri": "https://localhost:8080/"
        },
        "id": "iiHIYfyOsbcY",
        "outputId": "9bac9c73-a456-401e-8e0a-cbc3812a70f1"
      },
      "source": [
        "matches['Season'].unique()"
      ],
      "execution_count": 14,
      "outputs": [
        {
          "output_type": "execute_result",
          "data": {
            "text/plain": [
              "array(['IPL-2017', 'IPL-2008', 'IPL-2009', 'IPL-2010', 'IPL-2011',\n",
              "       'IPL-2012', 'IPL-2013', 'IPL-2014', 'IPL-2015', 'IPL-2016',\n",
              "       'IPL-2018', 'IPL-2019'], dtype=object)"
            ]
          },
          "metadata": {},
          "execution_count": 14
        }
      ]
    },
    {
      "cell_type": "markdown",
      "metadata": {
        "id": "U4DF91QSsfWR"
      },
      "source": [
        "That gives the list of years, but to answer the question with just the required answer, let’s calculate length of the list that was returned in the above step."
      ]
    },
    {
      "cell_type": "code",
      "metadata": {
        "colab": {
          "base_uri": "https://localhost:8080/"
        },
        "id": "ZQaJOyw_sinw",
        "outputId": "862cc193-f213-4d9e-cb8e-653555dded34"
      },
      "source": [
        "len(matches['Season'].unique())"
      ],
      "execution_count": 15,
      "outputs": [
        {
          "output_type": "execute_result",
          "data": {
            "text/plain": [
              "12"
            ]
          },
          "metadata": {},
          "execution_count": 15
        }
      ]
    },
    {
      "cell_type": "markdown",
      "metadata": {
        "id": "c0sCXsYrsh9J"
      },
      "source": [
        "**3.Which team had won by maximum runs?**\n",
        "\n",
        "\n",
        "\n",
        "\n",
        "To answer this question, we can divide the question logically – first we need to find maximum runs, then we can find the row (winning team) with this maximum runs – which would indeed be the team won by maximum runs. I’d like to emphasis here that it’s always important to divide your problem into logical sub-problems or modules and then build Python expressions/codes for those sub-modules finally adding them up to required code that will result in the solution."
      ]
    },
    {
      "cell_type": "code",
      "metadata": {
        "colab": {
          "base_uri": "https://localhost:8080/"
        },
        "id": "HGvgt5D_sqE6",
        "outputId": "d8b05abe-17d4-4c58-b2d4-792b653e6bed"
      },
      "source": [
        "matches.iloc[matches['win_by_runs'].idxmax()]"
      ],
      "execution_count": 16,
      "outputs": [
        {
          "output_type": "execute_result",
          "data": {
            "text/plain": [
              "id                               44\n",
              "Season                     IPL-2017\n",
              "city                          Delhi\n",
              "date                     06-05-2017\n",
              "team1                Mumbai Indians\n",
              "team2              Delhi Daredevils\n",
              "toss_winner        Delhi Daredevils\n",
              "toss_decision                 field\n",
              "result                       normal\n",
              "dl_applied                        0\n",
              "winner               Mumbai Indians\n",
              "win_by_runs                     146\n",
              "win_by_wickets                    0\n",
              "player_of_match         LMP Simmons\n",
              "venue              Feroz Shah Kotla\n",
              "umpire1                 Nitin Menon\n",
              "umpire2                   CK Nandan\n",
              "Name: 43, dtype: object"
            ]
          },
          "metadata": {},
          "execution_count": 16
        }
      ]
    },
    {
      "cell_type": "markdown",
      "metadata": {
        "id": "LslVJvDlstEj"
      },
      "source": [
        "idxmax will return the id of the maximumth value which in turn is fed into iloc that takes an index value and returns the row."
      ]
    },
    {
      "cell_type": "markdown",
      "metadata": {
        "id": "kgdtRXsZsviv"
      },
      "source": [
        "**4.Which team had won by maximum wickets?**\n",
        "\n",
        "Similar to the above one, this question should be straightforward to answer.."
      ]
    },
    {
      "cell_type": "code",
      "metadata": {
        "colab": {
          "base_uri": "https://localhost:8080/"
        },
        "id": "TNrRMqSXs1B3",
        "outputId": "83685c84-a734-4675-b4be-3583fbe3717c"
      },
      "source": [
        "matches.iloc[matches['win_by_wickets'].idxmax()]"
      ],
      "execution_count": 17,
      "outputs": [
        {
          "output_type": "execute_result",
          "data": {
            "text/plain": [
              "id                                                      3\n",
              "Season                                           IPL-2017\n",
              "city                                               Rajkot\n",
              "date                                           07-04-2017\n",
              "team1                                       Gujarat Lions\n",
              "team2                               Kolkata Knight Riders\n",
              "toss_winner                         Kolkata Knight Riders\n",
              "toss_decision                                       field\n",
              "result                                             normal\n",
              "dl_applied                                              0\n",
              "winner                              Kolkata Knight Riders\n",
              "win_by_runs                                             0\n",
              "win_by_wickets                                         10\n",
              "player_of_match                                   CA Lynn\n",
              "venue              Saurashtra Cricket Association Stadium\n",
              "umpire1                                       Nitin Menon\n",
              "umpire2                                         CK Nandan\n",
              "Name: 2, dtype: object"
            ]
          },
          "metadata": {},
          "execution_count": 17
        }
      ]
    },
    {
      "cell_type": "markdown",
      "metadata": {
        "id": "wLAgBceMs5zX"
      },
      "source": [
        "**5.Which team had won by (closest margin) minimum runs?**\n",
        "\n",
        "To know the team that was won by the closest margin, we have to do the opposite of what we’ve done in the above steps. But there’s a caveat in that. In Cricket, if the team that’s batting second wins the match (by chasing), it’ll be said “Team second won by x number of wickets” and if the team that’s bowling second (batted first) wins the match (by defending their score), it’ll be said “Team first won by x number of runs”. Hence, the minimum win by runs will always be 0 and the minimum win by wickets will also always be 0 in a tournament since sometimes chasing team or sometimes the team that batted first could win. To overcome this caveat, we just have to apply a simple workaround as you can see below."
      ]
    },
    {
      "cell_type": "code",
      "metadata": {
        "colab": {
          "base_uri": "https://localhost:8080/"
        },
        "id": "zzQETPgMs_tY",
        "outputId": "4dfc1ca5-5fae-4ed1-d3ee-8279bf3574dc"
      },
      "source": [
        "matches.iloc[matches[matches['win_by_runs'].ge(1)].win_by_runs.idxmin()]"
      ],
      "execution_count": 18,
      "outputs": [
        {
          "output_type": "execute_result",
          "data": {
            "text/plain": [
              "id                                                        59\n",
              "Season                                              IPL-2017\n",
              "city                                               Hyderabad\n",
              "date                                              21-05-2017\n",
              "team1                                         Mumbai Indians\n",
              "team2                                 Rising Pune Supergiant\n",
              "toss_winner                                   Mumbai Indians\n",
              "toss_decision                                            bat\n",
              "result                                                normal\n",
              "dl_applied                                                 0\n",
              "winner                                        Mumbai Indians\n",
              "win_by_runs                                                1\n",
              "win_by_wickets                                             0\n",
              "player_of_match                                    KH Pandya\n",
              "venue              Rajiv Gandhi International Stadium, Uppal\n",
              "umpire1                                             NJ Llong\n",
              "umpire2                                               S Ravi\n",
              "Name: 58, dtype: object"
            ]
          },
          "metadata": {},
          "execution_count": 18
        }
      ]
    },
    {
      "cell_type": "markdown",
      "metadata": {
        "id": "J11WiiO6tLWG"
      },
      "source": [
        "The above code displays only one team because of the way we have solved the question with location the index, but that may not be appropriate because there could be more than one instance of such win. Hence to solve that, we have to tweak the approach a bit as below."
      ]
    },
    {
      "cell_type": "code",
      "metadata": {
        "colab": {
          "base_uri": "https://localhost:8080/"
        },
        "id": "DDwKZ1fRtOuj",
        "outputId": "8ae74b23-c10d-4cfc-bf44-028ebbf64b60"
      },
      "source": [
        "matches[matches[matches['win_by_runs'].ge(1)].win_by_runs.min() == matches['win_by_runs']]['winner']\n",
        "#to handle the issue of only one team being shown"
      ],
      "execution_count": 19,
      "outputs": [
        {
          "output_type": "execute_result",
          "data": {
            "text/plain": [
              "58                  Mumbai Indians\n",
              "105                Kings XI Punjab\n",
              "163                Kings XI Punjab\n",
              "344               Delhi Daredevils\n",
              "350                 Mumbai Indians\n",
              "518            Chennai Super Kings\n",
              "598                  Gujarat Lions\n",
              "614    Royal Challengers Bangalore\n",
              "734    Royal Challengers Bangalore\n",
              "755                 Mumbai Indians\n",
              "Name: winner, dtype: object"
            ]
          },
          "metadata": {},
          "execution_count": 19
        }
      ]
    },
    {
      "cell_type": "markdown",
      "metadata": {
        "id": "Unf0v0G1tVv-"
      },
      "source": [
        "Instead of just getting the minimum score (which always would be 0), we have subsetted the data that has win_by_runs greater than or equal to 1 (there by eliminating the zero-issue)."
      ]
    },
    {
      "cell_type": "markdown",
      "metadata": {
        "id": "1G2yB9cBtZzn"
      },
      "source": [
        "**6.Which team had won by minimum wickets?**\n",
        "\n",
        "\n",
        "Going by the same logic as above:"
      ]
    },
    {
      "cell_type": "code",
      "metadata": {
        "colab": {
          "base_uri": "https://localhost:8080/"
        },
        "id": "ktu9RpRMtgpB",
        "outputId": "c16d862a-d31d-4f7f-802e-dc4c15d78555"
      },
      "source": [
        "matches.iloc[matches[matches['win_by_wickets'].ge(1)].win_by_wickets.idxmin()]"
      ],
      "execution_count": 21,
      "outputs": [
        {
          "output_type": "execute_result",
          "data": {
            "text/plain": [
              "id                                   560\n",
              "Season                          IPL-2015\n",
              "city                             Kolkata\n",
              "date                          09-05-2015\n",
              "team1                    Kings XI Punjab\n",
              "team2              Kolkata Knight Riders\n",
              "toss_winner              Kings XI Punjab\n",
              "toss_decision                        bat\n",
              "result                            normal\n",
              "dl_applied                             0\n",
              "winner             Kolkata Knight Riders\n",
              "win_by_runs                            0\n",
              "win_by_wickets                         1\n",
              "player_of_match               AD Russell\n",
              "venue                       Eden Gardens\n",
              "umpire1                     AK Chaudhary\n",
              "umpire2                  HDPK Dharmasena\n",
              "Name: 559, dtype: object"
            ]
          },
          "metadata": {},
          "execution_count": 21
        }
      ]
    },
    {
      "cell_type": "markdown",
      "metadata": {
        "id": "0o-DCEW9twOb"
      },
      "source": [
        "To advance further in our quest to understand the process of Data analysis in Python, let us answer further questions with Data Visulization i.e., by plotting the result."
      ]
    },
    {
      "cell_type": "markdown",
      "metadata": {
        "id": "kv6Fz1GZuLlX"
      },
      "source": [
        "**7.Which season had most number of matches?**\n",
        "\n",
        "We know that if each row is a match, then counting the number of instances/rows of every season would give us the number of matches for every season.\n"
      ]
    },
    {
      "cell_type": "code",
      "metadata": {
        "colab": {
          "base_uri": "https://localhost:8080/",
          "height": 381
        },
        "id": "9quH7dEruQxz",
        "outputId": "95ba1dd5-be90-4650-95c6-c5762fd3f602"
      },
      "source": [
        "sns.countplot(x='Season', data=matches)\n",
        "plt.rcParams['figure.figsize'] = (15, 8)\n",
        "plt.ylabel('Matches Played')\n",
        "plt.show()"
      ],
      "execution_count": 22,
      "outputs": [
        {
          "output_type": "display_data",
          "data": {
            "image/png": "[encoded data removed]",
            "text/plain": [
              "<Figure size 1008x576 with 1 Axes>"
            ]
          },
          "metadata": {}
        }
      ]
    },
    {
      "cell_type": "markdown",
      "metadata": {
        "id": "1Nl3XQRduViF"
      },
      "source": [
        "**8.The most successful IPL Team**\n",
        "\n",
        "The most successful IPL team is the team that has won most number of times. Which also means, answer it to this is as same as the above exercise except counting the number of instances in each season, here we’ve to count the number of instances in each winning team."
      ]
    },
    {
      "cell_type": "code",
      "metadata": {
        "colab": {
          "base_uri": "https://localhost:8080/",
          "height": 318
        },
        "id": "lHoShYWcublY",
        "outputId": "7cb50f19-55b4-4917-e47a-15c1565efa3b"
      },
      "source": [
        "#sns.countplot(y='winner', data = matches)\n",
        "#plt.show\n",
        "\n",
        "data = matches.winner.value_counts()\n",
        "sns.barplot(y = data.index, x = data, orient='h');"
      ],
      "execution_count": 23,
      "outputs": [
        {
          "output_type": "display_data",
          "data": {
            "image/png": "[encoded data removed]",
            "text/plain": [
              "<Figure size 1080x576 with 1 Axes>"
            ]
          },
          "metadata": {}
        }
      ]
    },
    {
      "cell_type": "markdown",
      "metadata": {
        "id": "AxPTUOdSubIL"
      },
      "source": [
        "While this also could’ve been easily done with countplot(), just to introduce another variant of sns plot -barplot() has been used to visualize it."
      ]
    },
    {
      "cell_type": "markdown",
      "metadata": {
        "id": "QNUOaE-_uig-"
      },
      "source": [
        "**9.Top player of the match Winners**\n"
      ]
    },
    {
      "cell_type": "code",
      "metadata": {
        "id": "1QKTb-81upnT"
      },
      "source": [
        "top_players = matches.player_of_match.value_counts()[:10]\n",
        "\n",
        "fig, ax = plt.subplots()\n",
        "ax.set_ylim([0,25])\n",
        "ax.set_ylabel(\"Count\")\n",
        "ax.set_title(\"Top player of the match Winners\")\n",
        "\n",
        "sns.barplot(x = top_players.index, y = top_players, orient='v'); \n",
        "plt.show()"
      ],
      "execution_count": null,
      "outputs": []
    },
    {
      "cell_type": "markdown",
      "metadata": {
        "id": "CFlraSAXus8L"
      },
      "source": [
        "**10.How many Toss winning teams have won the matches?**\n",
        "\n",
        "\n",
        "Having solved those not-so-tough questions above, we are nowhere to extract a critical insight – which is – Has winning toss actually helped in winning the match?\n",
        "\n",
        "Using our same approach of dividing our problem into chunks – we can separate this question into two – match winner and toss winner if both of them are same – then it’s a success and if not it’s a failure. Before visualizing the outcome, let us first see how the numbers look."
      ]
    },
    {
      "cell_type": "code",
      "metadata": {
        "colab": {
          "base_uri": "https://localhost:8080/"
        },
        "id": "6LktFg7DuzyX",
        "outputId": "24d1f242-3045-4be0-d9aa-a83911925ea3"
      },
      "source": [
        "ss = matches['toss_winner'] == matches['winner']\n",
        "\n",
        "ss.groupby(ss).size()"
      ],
      "execution_count": 24,
      "outputs": [
        {
          "output_type": "execute_result",
          "data": {
            "text/plain": [
              "False    363\n",
              "True     393\n",
              "dtype: int64"
            ]
          },
          "metadata": {},
          "execution_count": 24
        }
      ]
    },
    {
      "cell_type": "markdown",
      "metadata": {
        "id": "XNCEWvHouzFX"
      },
      "source": [
        "Looks like, Toss winning actually helps in Match winning – or to be statistically right, we could say there’s a correlation between Toss Winning and Match Winning and so we can assume that it helps."
      ]
    },
    {
      "cell_type": "markdown",
      "metadata": {
        "id": "T18lOUMMu8ED"
      },
      "source": [
        "**11.What's the percentage of it?**"
      ]
    },
    {
      "cell_type": "code",
      "metadata": {
        "colab": {
          "base_uri": "https://localhost:8080/"
        },
        "id": "VQAtNOBSu_vo",
        "outputId": "8c6da630-dfe4-49b2-9f6a-7066bb0ac6a6"
      },
      "source": [
        "round(ss.groupby(ss).size() / ss.count() * 100,2)"
      ],
      "execution_count": 25,
      "outputs": [
        {
          "output_type": "execute_result",
          "data": {
            "text/plain": [
              "False    48.02\n",
              "True     51.98\n",
              "dtype: float64"
            ]
          },
          "metadata": {},
          "execution_count": 25
        }
      ]
    },
    {
      "cell_type": "code",
      "metadata": {
        "colab": {
          "base_uri": "https://localhost:8080/",
          "height": 537
        },
        "id": "jW6Lk6KRvDhK",
        "outputId": "2b9d00e4-cdad-4349-c3dc-fb8c8b138bd5"
      },
      "source": [
        "sns.countplot(ss);"
      ],
      "execution_count": 26,
      "outputs": [
        {
          "output_type": "stream",
          "text": [
            "/usr/local/lib/python3.7/dist-packages/seaborn/_decorators.py:43: FutureWarning: Pass the following variable as a keyword arg: x. From version 0.12, the only valid positional argument will be `data`, and passing other arguments without an explicit keyword will result in an error or misinterpretation.\n",
            "  FutureWarning\n"
          ],
          "name": "stderr"
        },
        {
          "output_type": "display_data",
          "data": {
            "image/png": "[encoded data removed]",
            "text/plain": [
              "<Figure size 1080x576 with 1 Axes>"
            ]
          },
          "metadata": {}
        }
      ]
    }
  ]
}